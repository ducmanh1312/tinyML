{
 "cells": [
  {
   "cell_type": "code",
   "execution_count": 3,
   "metadata": {},
   "outputs": [
    {
     "name": "stdout",
     "output_type": "stream",
     "text": [
      "file COCO: ['info', 'licenses', 'categories', 'images', 'annotations']\n"
     ]
    }
   ],
   "source": [
    "import os\n",
    "import json\n",
    "from PIL import Image\n",
    "import json\n",
    "\n",
    "with open(\"/media/icnlab/Data/Manh/tinyML/FieldPlant-11/train/_annotations.coco.json\", \"r\") as f:\n",
    "    data = json.load(f)\n",
    "print(\"file COCO:\", list(data.keys()))\n",
    "\n",
    "# Đường dẫn\n",
    "json_path = \"/media/icnlab/Data/Manh/tinyML/FieldPlant-11/train/_annotations.coco.json\"\n",
    "image_dir = \"/media/icnlab/Data/Manh/tinyML/FieldPlant-11/train\"\n",
    "output_dir = \"/media/icnlab/Data/Manh/tinyML/FieldPlant-11/cropped\"\n",
    "\n",
    "# Tạo thư mục lưu ảnh cắt\n",
    "os.makedirs(output_dir, exist_ok=True)\n",
    "\n",
    "# Tạo dict ánh xạ từ image_id => image_info ( thông tin ảnh )\n",
    "image_dict = {img_info[\"id\"]: img_info for img_info in data[\"images\"]}\n",
    "\n",
    "# Tạo dict ánh xạ category_id -> category_name\n",
    "category_dict = {cat[\"id\"]: cat[\"name\"] for cat in data[\"categories\"]}"
   ]
  },
  {
   "cell_type": "code",
   "execution_count": 5,
   "metadata": {},
   "outputs": [
    {
     "data": {
      "text/plain": [
       "{'id': 22,\n",
       " 'license': 1,\n",
       " 'file_name': 'Tomate_Taches_Brunes-352-_jpg.rf.014788e85715c7bb87a51addbb58ce1b.jpg',\n",
       " 'height': 4160,\n",
       " 'width': 3120,\n",
       " 'date_captured': '2023-07-05T19:01:30+00:00'}"
      ]
     },
     "execution_count": 5,
     "metadata": {},
     "output_type": "execute_result"
    }
   ],
   "source": [
    "img_info = image_dict[22]\n",
    "img_info"
   ]
  },
  {
   "cell_type": "code",
   "execution_count": 6,
   "metadata": {},
   "outputs": [
    {
     "name": "stdout",
     "output_type": "stream",
     "text": [
      "Stored 'category_dict' (dict)\n",
      "Stored 'image_paths' (list)\n",
      "Stored 'labels' (list)\n"
     ]
    },
    {
     "data": {
      "text/plain": [
       "(['/media/icnlab/Data/Manh/tinyML/FieldPlant-11/cropped/Tomate_Taches_Brunes-122-_jpg.rf.a3f5716e27e5be00a300906d166797ed_7610_Tomato Brown Spots.jpg',\n",
       "  '/media/icnlab/Data/Manh/tinyML/FieldPlant-11/cropped/Tomate_Taches_Brunes-342-_jpg.rf.14d6bc4f4f81367b610c2e671e6a8c47_704_Tomato Brown Spots.jpg'],\n",
       " ['Tomato Brown Spots', 'Tomato Brown Spots'],\n",
       " 2786,\n",
       " 2786)"
      ]
     },
     "execution_count": 6,
     "metadata": {},
     "output_type": "execute_result"
    }
   ],
   "source": [
    "import os\n",
    "%store category_dict\n",
    "\n",
    "# image_paths = [os.path.join(image_dir, img_info[\"file_name\"]) for img_info in image_dict.values()]\n",
    "image_paths = [os.path.join(output_dir, image_name) for image_name in os.listdir(output_dir)]\n",
    "labels = [image_path.split('/')[-1].split('_')[-1].split('.')[0] for image_path in image_paths] \n",
    "\n",
    "# filter tomato class from image_paths and labels\n",
    "for i in range(len(labels) - 1, -1, -1):\n",
    "    if 'tomato' not in labels[i].lower():\n",
    "        image_paths.pop(i)\n",
    "        labels.pop(i)\n",
    "\n",
    "%store image_paths labels\n",
    "\n",
    "image_paths[:2], labels[:2], len(image_paths), len(labels)"
   ]
  },
  {
   "cell_type": "code",
   "execution_count": null,
   "metadata": {},
   "outputs": [],
   "source": [
    "# Cắt ảnh\n",
    "for ann in data[\"annotations\"]:\n",
    "    image_id = ann[\"image_id\"]\n",
    "    img_info = image_dict[image_id]\n",
    "\n",
    "    category_id = ann[\"category_id\"]\n",
    "    category_name = category_dict[category_id]\n",
    "\n",
    "    bbox = ann[\"bbox\"]  # [x, y, width, height]\n",
    "    img_path = os.path.join(image_dir, img_info[\"file_name\"])\n",
    "    \n",
    "    # Mở ảnh\n",
    "    try:\n",
    "        with Image.open(img_path) as im:\n",
    "            x, y, w, h = map(int, bbox)\n",
    "            cropped = im.crop((x, y, x + w, y + h))\n",
    "\n",
    "            # Tạo tên file output\n",
    "            base_name = os.path.splitext(img_info[\"file_name\"])[0]\n",
    "            out_name = f\"{base_name}_{ann['id']}_{category_name}.jpg\"\n",
    "            out_path = os.path.join(output_dir, out_name)\n",
    "\n",
    "            # Lưu ảnh cắt\n",
    "            cropped.save(out_path)\n",
    "    except Exception as e:\n",
    "        print(f\"Lỗi với ảnh {img_path}: {e}\")"
   ]
  }
 ],
 "metadata": {
  "kernelspec": {
   "display_name": "aiot",
   "language": "python",
   "name": "python3"
  },
  "language_info": {
   "codemirror_mode": {
    "name": "ipython",
    "version": 3
   },
   "file_extension": ".py",
   "mimetype": "text/x-python",
   "name": "python",
   "nbconvert_exporter": "python",
   "pygments_lexer": "ipython3",
   "version": "3.11.0"
  }
 },
 "nbformat": 4,
 "nbformat_minor": 2
}
