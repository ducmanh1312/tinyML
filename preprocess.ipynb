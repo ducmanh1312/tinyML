{
 "cells": [
  {
   "cell_type": "code",
   "execution_count": 1,
   "metadata": {},
   "outputs": [
    {
     "name": "stdout",
     "output_type": "stream",
     "text": [
      "file COCO: ['info', 'licenses', 'categories', 'images', 'annotations']\n"
     ]
    }
   ],
   "source": [
    "import os\n",
    "import json\n",
    "from PIL import Image\n",
    "import json\n",
    "\n",
    "with open(\"/media/icnlab/Data/Manh/tinyML/FieldPlant-11/train/_annotations.coco.json\", \"r\") as f:\n",
    "    data = json.load(f)\n",
    "print(\"file COCO:\", list(data.keys()))\n",
    "\n",
    "# Đường dẫn\n",
    "json_path = \"/media/icnlab/Data/Manh/tinyML/FieldPlant-11/train/_annotations.coco.json\"\n",
    "image_dir = \"/media/icnlab/Data/Manh/tinyML/FieldPlant-11/train\"\n",
    "cropped_dir = \"/media/icnlab/Data/Manh/tinyML/FieldPlant-11/cropped\"\n",
    "\n",
    "# Tạo thư mục lưu ảnh cắt\n",
    "os.makedirs(cropped_dir, exist_ok=True)\n",
    "\n",
    "# Tạo dict ánh xạ từ image_id => image_info ( thông tin ảnh )\n",
    "image_dict = {img_info[\"id\"]: img_info for img_info in data[\"images\"]}\n",
    "\n",
    "# Tạo dict ánh xạ category_id -> category_name\n",
    "category_dict = {cat[\"id\"]: cat[\"name\"] for cat in data[\"categories\"]}"
   ]
  },
  {
   "cell_type": "code",
   "execution_count": 2,
   "metadata": {},
   "outputs": [
    {
     "data": {
      "text/plain": [
       "(2765, 2765)"
      ]
     },
     "execution_count": 2,
     "metadata": {},
     "output_type": "execute_result"
    }
   ],
   "source": [
    "deleted_class = ['Tomato leaf mosaic virus', 'Tomato bacterial wilt']\n",
    "class_names = [cls for cls in os.listdir(cropped_dir) \n",
    "                if (os.path.isdir(os.path.join(cropped_dir, cls)) \n",
    "                & ('tomato' in cls.lower()) \n",
    "                & (cls not in deleted_class))]\n",
    "class_names\n",
    "\n",
    "image_paths = []\n",
    "labels = []\n",
    "for cls in class_names:\n",
    "    class_folder = os.path.join(cropped_dir, cls)\n",
    "    for fname in os.listdir(class_folder):\n",
    "        if fname.lower().endswith(('.png', '.jpg', '.jpeg', '.bmp', '.tiff')):\n",
    "            image_paths.append(os.path.join(class_folder, fname))\n",
    "            labels.append(cls)\n",
    "\n",
    "len(image_paths), len(labels)"
   ]
  },
  {
   "cell_type": "code",
   "execution_count": 26,
   "metadata": {},
   "outputs": [
    {
     "data": {
      "text/plain": [
       "(Counter({3: 1967, 0: 404, 1: 279, 2: 115}), [0, 0, 0])"
      ]
     },
     "execution_count": 26,
     "metadata": {},
     "output_type": "execute_result"
    }
   ],
   "source": [
    "from collections import Counter\n",
    "list_labels = Counter(labels)\n",
    "\n",
    "label2id = {label: id for id, label in enumerate(list_labels)}\n",
    "id2label = {id: label for id, label in enumerate(list_labels)}\n",
    "labels = [label2id[label] for label in labels]\n",
    "list_labels, labels[:3]\n"
   ]
  },
  {
   "cell_type": "code",
   "execution_count": 27,
   "metadata": {},
   "outputs": [],
   "source": [
    "import pandas as pd\n",
    "df = pd.DataFrame({\n",
    "    'label': labels,\n",
    "    'file_path': image_paths,\n",
    "})\n",
    "df.to_csv('/media/icnlab/Data/Manh/tinyML/FieldPlant-11/data.csv', index=True)"
   ]
  },
  {
   "cell_type": "code",
   "execution_count": 29,
   "metadata": {},
   "outputs": [
    {
     "name": "stdout",
     "output_type": "stream",
     "text": [
      "Số ảnh train: 2212\n",
      "Số ảnh test: 553\n"
     ]
    }
   ],
   "source": [
    "from sklearn.model_selection import train_test_split\n",
    "# Chia 80% train, 20% test\n",
    "train_paths, test_paths, train_labels, test_labels = train_test_split(\n",
    "    image_paths,\n",
    "    labels,\n",
    "    test_size=0.2,\n",
    "    stratify=labels,     # giữ phân bố nhãn nếu cần\n",
    "    random_state=42      # để kết quả có thể tái lặp\n",
    ")\n",
    "\n",
    "# Kiểm tra kết quả\n",
    "print(f\"Số ảnh train: {len(train_paths)}\")\n",
    "print(f\"Số ảnh test: {len(test_paths)}\")"
   ]
  },
  {
   "cell_type": "code",
   "execution_count": 31,
   "metadata": {},
   "outputs": [],
   "source": [
    "import pandas as pd\n",
    "df = pd.DataFrame({\n",
    "    'label': train_labels,\n",
    "    'file_path': train_paths,\n",
    "})\n",
    "df.to_csv('/media/icnlab/Data/Manh/tinyML/FieldPlant-11/train.csv', index=True)\n",
    "\n",
    "import pandas as pd\n",
    "df = pd.DataFrame({\n",
    "    'label': test_labels,\n",
    "    'file_path': test_paths,\n",
    "})\n",
    "df.to_csv('/media/icnlab/Data/Manh/tinyML/FieldPlant-11/test.csv', index=True)"
   ]
  },
  {
   "cell_type": "code",
   "execution_count": 8,
   "metadata": {},
   "outputs": [],
   "source": [
    "# move images to class folders\n",
    "import os\n",
    "import shutil\n",
    "def move_images_to_folder(source_folder):\n",
    "    for f in os.listdir(source_folder):\n",
    "        if f.endswith('.jpg'):\n",
    "            label = f.split('_')[-1].split('.')[0]\n",
    "            destination_folder = os.path.join(source_folder, label)\n",
    "            if not os.path.exists(destination_folder):\n",
    "                os.makedirs(destination_folder)\n",
    "            source_path = os.path.join(source_folder, f)\n",
    "            destination_path = os.path.join(destination_folder, f)\n",
    "            shutil.move(source_path, destination_path)\n",
    "\n",
    "source_folder = '/media/icnlab/Data/Manh/tinyML/FieldPlant-11/cropped'\n",
    "move_images_to_folder(source_folder)"
   ]
  },
  {
   "cell_type": "code",
   "execution_count": null,
   "metadata": {},
   "outputs": [],
   "source": [
    "# Cắt ảnh\n",
    "for ann in data[\"annotations\"]:\n",
    "    image_id = ann[\"image_id\"]\n",
    "    img_info = image_dict[image_id]\n",
    "\n",
    "    category_id = ann[\"category_id\"]\n",
    "    category_name = category_dict[category_id]\n",
    "\n",
    "    bbox = ann[\"bbox\"]  # [x, y, width, height]\n",
    "    img_path = os.path.join(image_dir, img_info[\"file_name\"])\n",
    "    \n",
    "    # Mở ảnh\n",
    "    try:\n",
    "        with Image.open(img_path) as im:\n",
    "            x, y, w, h = map(int, bbox)\n",
    "            cropped = im.crop((x, y, x + w, y + h))\n",
    "\n",
    "            # Tạo tên file output\n",
    "            base_name = os.path.splitext(img_info[\"file_name\"])[0]\n",
    "            out_name = f\"{base_name}_{ann['id']}_{category_name}.jpg\"\n",
    "            out_path = os.path.join(output_dir, out_name)\n",
    "\n",
    "            # Lưu ảnh cắt\n",
    "            cropped.save(out_path)\n",
    "    except Exception as e:\n",
    "        print(f\"Lỗi với ảnh {img_path}: {e}\")"
   ]
  }
 ],
 "metadata": {
  "kernelspec": {
   "display_name": "aiot",
   "language": "python",
   "name": "python3"
  },
  "language_info": {
   "codemirror_mode": {
    "name": "ipython",
    "version": 3
   },
   "file_extension": ".py",
   "mimetype": "text/x-python",
   "name": "python",
   "nbconvert_exporter": "python",
   "pygments_lexer": "ipython3",
   "version": "3.11.0"
  }
 },
 "nbformat": 4,
 "nbformat_minor": 2
}
