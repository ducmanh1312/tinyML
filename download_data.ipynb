{
 "cells": [
  {
   "cell_type": "code",
   "execution_count": null,
   "metadata": {},
   "outputs": [],
   "source": [
    "# Download fieldplant\n",
    "from roboflow import Roboflow\n",
    "rf = Roboflow(api_key=\"lMCCMNh1Mh8GVNVCLlLi\")\n",
    "project = rf.workspace(\"plant-disease-detection\").project(\"fieldplant\")\n",
    "version = project.version(11)\n",
    "dataset = version.download(\"coco\")"
   ]
  },
  {
   "cell_type": "code",
   "execution_count": 4,
   "metadata": {},
   "outputs": [
    {
     "name": "stderr",
     "output_type": "stream",
     "text": [
      "PDDD/model/ConvNeXt.std: 100%|██████████| 355M/355M [01:33<00:00, 3.81MB/s] \n"
     ]
    }
   ],
   "source": [
    "# Download iNaturalist\n",
    "import os\n",
    "import tarfile\n",
    "import requests\n",
    "from tqdm import tqdm\n",
    "\n",
    "def download_request(filename, url):\n",
    "    response = requests.get(url, stream=True)\n",
    "    response.raise_for_status()\n",
    "    \n",
    "    total_size = int(response.headers.get('content-length', 0))\n",
    "    block_size = 8192\n",
    "    \n",
    "    with open(filename, \"wb\") as f:\n",
    "        with tqdm(total=total_size, unit='B', unit_scale=True, desc=filename) as pbar:\n",
    "            for chunk in response.iter_content(chunk_size=block_size):\n",
    "                if chunk:\n",
    "                    f.write(chunk)\n",
    "                    pbar.update(len(chunk))\n",
    "        \n",
    "\n",
    "# Main execution\n",
    "# https://pd.dm.samlab.cn/m/Pre-training-model/PDDM/ViLT.mdl\n",
    "# https://pd.dm.samlab.cn/m/Pre-training-model/PDDM/ResNet152.std\n",
    "# https://pd.dm.samlab.cn/m/Pre-training-model/PDDM/ViT_L.std\n",
    "# https://pd.dm.samlab.cn/m/Pre-training-model/PDDM/PDDM.zip\n",
    "# https://pd.dm.samlab.cn/m/Pre-training-model/PDDM/Codes.zip\n",
    "url = \"https://pd.dm.samlab.cn/m/Pre-training-model/PDDM/ConvNeXt.std\"\n",
    "basename = os.path.basename(url)\n",
    "filepath = \"PDDD/model/\" + basename\n",
    "\n",
    "# Create directory if it doesn't exist\n",
    "os.makedirs(os.path.dirname(filepath), exist_ok=True)\n",
    "download_request(filepath, url)"
   ]
  },
  {
   "cell_type": "code",
   "execution_count": 10,
   "metadata": {},
   "outputs": [
    {
     "name": "stdout",
     "output_type": "stream",
     "text": [
      "Extraction completed.\n"
     ]
    }
   ],
   "source": [
    "# extract zip file \n",
    "import zipfile\n",
    "with zipfile.ZipFile(\"/media/icnlab/Data/Manh/tinyML/PDDD/Codes.zip\", \"r\") as zip_ref:\n",
    "    zip_ref.extractall(\"/media/icnlab/Data/Manh/tinyML/PDDD\")  # 🔁 Đổi thư mục giải nén nếu muốn\n",
    "\n",
    "print(\"Extraction completed.\")\n"
   ]
  },
  {
   "cell_type": "code",
   "execution_count": null,
   "metadata": {},
   "outputs": [],
   "source": [
    "# extract tar file\n",
    "with tarfile.open(\"images/val.tar.gz\", \"r:gz\") as tar:\n",
    "    tar.extractall(path=\"images/val\")  # 🔁 Đổi thư mục giải nén nếu muốn\n",
    "print(\"Extraction completed.\")"
   ]
  }
 ],
 "metadata": {
  "kernelspec": {
   "display_name": "aiot",
   "language": "python",
   "name": "python3"
  },
  "language_info": {
   "codemirror_mode": {
    "name": "ipython",
    "version": 3
   },
   "file_extension": ".py",
   "mimetype": "text/x-python",
   "name": "python",
   "nbconvert_exporter": "python",
   "pygments_lexer": "ipython3",
   "version": "3.11.0"
  }
 },
 "nbformat": 4,
 "nbformat_minor": 2
}
